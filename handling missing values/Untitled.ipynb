{
 "cells": [
  {
   "cell_type": "code",
   "execution_count": 6,
   "id": "6dc6c974-9017-47c9-8e2d-67eaf7be432f",
   "metadata": {},
   "outputs": [],
   "source": [
    "import numpy as np \n",
    "import pandas as pd \n",
    "import matplotlib.pyplot as plt "
   ]
  },
  {
   "cell_type": "code",
   "execution_count": 8,
   "id": "8ca76e37-681c-4201-82e7-6d01868a465c",
   "metadata": {},
   "outputs": [
    {
     "data": {
      "text/html": [
       "<div>\n",
       "<style scoped>\n",
       "    .dataframe tbody tr th:only-of-type {\n",
       "        vertical-align: middle;\n",
       "    }\n",
       "\n",
       "    .dataframe tbody tr th {\n",
       "        vertical-align: top;\n",
       "    }\n",
       "\n",
       "    .dataframe thead th {\n",
       "        text-align: right;\n",
       "    }\n",
       "</style>\n",
       "<table border=\"1\" class=\"dataframe\">\n",
       "  <thead>\n",
       "    <tr style=\"text-align: right;\">\n",
       "      <th></th>\n",
       "      <th>Date</th>\n",
       "      <th>Open</th>\n",
       "      <th>High</th>\n",
       "      <th>Low</th>\n",
       "      <th>Close</th>\n",
       "      <th>Adj Close</th>\n",
       "      <th>Volume</th>\n",
       "    </tr>\n",
       "  </thead>\n",
       "  <tbody>\n",
       "    <tr>\n",
       "      <th>0</th>\n",
       "      <td>2012-01-02</td>\n",
       "      <td>681.099976</td>\n",
       "      <td>691.000000</td>\n",
       "      <td>655.000000</td>\n",
       "      <td>669.450012</td>\n",
       "      <td>543.723328</td>\n",
       "      <td>19619</td>\n",
       "    </tr>\n",
       "    <tr>\n",
       "      <th>1</th>\n",
       "      <td>2012-01-03</td>\n",
       "      <td>670.099976</td>\n",
       "      <td>693.950012</td>\n",
       "      <td>666.250000</td>\n",
       "      <td>689.200012</td>\n",
       "      <td>559.764282</td>\n",
       "      <td>20734</td>\n",
       "    </tr>\n",
       "    <tr>\n",
       "      <th>2</th>\n",
       "      <td>2012-01-04</td>\n",
       "      <td>676.200012</td>\n",
       "      <td>689.000000</td>\n",
       "      <td>642.650024</td>\n",
       "      <td>649.099976</td>\n",
       "      <td>527.195190</td>\n",
       "      <td>68970</td>\n",
       "    </tr>\n",
       "    <tr>\n",
       "      <th>3</th>\n",
       "      <td>2012-01-05</td>\n",
       "      <td>648.250000</td>\n",
       "      <td>656.650024</td>\n",
       "      <td>633.750000</td>\n",
       "      <td>652.849976</td>\n",
       "      <td>530.240906</td>\n",
       "      <td>52112</td>\n",
       "    </tr>\n",
       "    <tr>\n",
       "      <th>4</th>\n",
       "      <td>2012-01-06</td>\n",
       "      <td>654.000000</td>\n",
       "      <td>654.000000</td>\n",
       "      <td>641.000000</td>\n",
       "      <td>644.150024</td>\n",
       "      <td>523.174866</td>\n",
       "      <td>19404</td>\n",
       "    </tr>\n",
       "    <tr>\n",
       "      <th>...</th>\n",
       "      <td>...</td>\n",
       "      <td>...</td>\n",
       "      <td>...</td>\n",
       "      <td>...</td>\n",
       "      <td>...</td>\n",
       "      <td>...</td>\n",
       "      <td>...</td>\n",
       "    </tr>\n",
       "    <tr>\n",
       "      <th>2460</th>\n",
       "      <td>2021-12-27</td>\n",
       "      <td>5033.799805</td>\n",
       "      <td>5128.450195</td>\n",
       "      <td>4961.700195</td>\n",
       "      <td>5083.200195</td>\n",
       "      <td>5083.200195</td>\n",
       "      <td>38067</td>\n",
       "    </tr>\n",
       "    <tr>\n",
       "      <th>2461</th>\n",
       "      <td>2021-12-28</td>\n",
       "      <td>5132.000000</td>\n",
       "      <td>5140.000000</td>\n",
       "      <td>5068.850098</td>\n",
       "      <td>5091.149902</td>\n",
       "      <td>5091.149902</td>\n",
       "      <td>30905</td>\n",
       "    </tr>\n",
       "    <tr>\n",
       "      <th>2462</th>\n",
       "      <td>2021-12-29</td>\n",
       "      <td>5091.149902</td>\n",
       "      <td>5125.600098</td>\n",
       "      <td>5020.000000</td>\n",
       "      <td>5032.549805</td>\n",
       "      <td>5032.549805</td>\n",
       "      <td>22220</td>\n",
       "    </tr>\n",
       "    <tr>\n",
       "      <th>2463</th>\n",
       "      <td>2021-12-30</td>\n",
       "      <td>5053.950195</td>\n",
       "      <td>5183.899902</td>\n",
       "      <td>5040.399902</td>\n",
       "      <td>5158.950195</td>\n",
       "      <td>5158.950195</td>\n",
       "      <td>29684</td>\n",
       "    </tr>\n",
       "    <tr>\n",
       "      <th>2464</th>\n",
       "      <td>2021-12-31</td>\n",
       "      <td>5149.000000</td>\n",
       "      <td>5590.000000</td>\n",
       "      <td>5139.799805</td>\n",
       "      <td>5432.049805</td>\n",
       "      <td>5432.049805</td>\n",
       "      <td>49641</td>\n",
       "    </tr>\n",
       "  </tbody>\n",
       "</table>\n",
       "<p>2465 rows × 7 columns</p>\n",
       "</div>"
      ],
      "text/plain": [
       "            Date         Open         High          Low        Close  \\\n",
       "0     2012-01-02   681.099976   691.000000   655.000000   669.450012   \n",
       "1     2012-01-03   670.099976   693.950012   666.250000   689.200012   \n",
       "2     2012-01-04   676.200012   689.000000   642.650024   649.099976   \n",
       "3     2012-01-05   648.250000   656.650024   633.750000   652.849976   \n",
       "4     2012-01-06   654.000000   654.000000   641.000000   644.150024   \n",
       "...          ...          ...          ...          ...          ...   \n",
       "2460  2021-12-27  5033.799805  5128.450195  4961.700195  5083.200195   \n",
       "2461  2021-12-28  5132.000000  5140.000000  5068.850098  5091.149902   \n",
       "2462  2021-12-29  5091.149902  5125.600098  5020.000000  5032.549805   \n",
       "2463  2021-12-30  5053.950195  5183.899902  5040.399902  5158.950195   \n",
       "2464  2021-12-31  5149.000000  5590.000000  5139.799805  5432.049805   \n",
       "\n",
       "        Adj Close  Volume  \n",
       "0      543.723328   19619  \n",
       "1      559.764282   20734  \n",
       "2      527.195190   68970  \n",
       "3      530.240906   52112  \n",
       "4      523.174866   19404  \n",
       "...           ...     ...  \n",
       "2460  5083.200195   38067  \n",
       "2461  5091.149902   30905  \n",
       "2462  5032.549805   22220  \n",
       "2463  5158.950195   29684  \n",
       "2464  5432.049805   49641  \n",
       "\n",
       "[2465 rows x 7 columns]"
      ]
     },
     "execution_count": 8,
     "metadata": {},
     "output_type": "execute_result"
    }
   ],
   "source": [
    "df=pd.read_csv('/Users/udaysinghshekhawat/Documents/NIFTY500_dataset/Dataset/103_BAJAJHLDNG.csv')\n",
    "df"
   ]
  },
  {
   "cell_type": "code",
   "execution_count": 10,
   "id": "2311e530-5613-4646-a441-1be4202a1b0c",
   "metadata": {},
   "outputs": [
    {
     "name": "stdout",
     "output_type": "stream",
     "text": [
      "<class 'pandas.core.frame.DataFrame'>\n",
      "RangeIndex: 2465 entries, 0 to 2464\n",
      "Data columns (total 7 columns):\n",
      " #   Column     Non-Null Count  Dtype  \n",
      "---  ------     --------------  -----  \n",
      " 0   Date       2465 non-null   object \n",
      " 1   Open       2465 non-null   float64\n",
      " 2   High       2465 non-null   float64\n",
      " 3   Low        2465 non-null   float64\n",
      " 4   Close      2465 non-null   float64\n",
      " 5   Adj Close  2465 non-null   float64\n",
      " 6   Volume     2465 non-null   int64  \n",
      "dtypes: float64(5), int64(1), object(1)\n",
      "memory usage: 134.9+ KB\n"
     ]
    }
   ],
   "source": [
    "df.info()"
   ]
  },
  {
   "cell_type": "code",
   "execution_count": 12,
   "id": "fb2ae8b4-a057-4aae-b0ed-dc004c2f8b61",
   "metadata": {
    "scrolled": true
   },
   "outputs": [
    {
     "data": {
      "text/plain": [
       "Date         0\n",
       "Open         0\n",
       "High         0\n",
       "Low          0\n",
       "Close        0\n",
       "Adj Close    0\n",
       "Volume       0\n",
       "dtype: int64"
      ]
     },
     "execution_count": 12,
     "metadata": {},
     "output_type": "execute_result"
    }
   ],
   "source": [
    "df.isnull().sum()"
   ]
  },
  {
   "cell_type": "markdown",
   "id": "e2aa7dfc-f1d3-4019-9cde-541eb0535930",
   "metadata": {},
   "source": [
    "1st method to handle missing value (drop rows or column )"
   ]
  },
  {
   "cell_type": "code",
   "execution_count": 14,
   "id": "7f49b95f-007a-4294-a4dc-acc1f7935949",
   "metadata": {},
   "outputs": [
    {
     "name": "stdout",
     "output_type": "stream",
     "text": [
      "<class 'pandas.core.frame.DataFrame'>\n",
      "RangeIndex: 2465 entries, 0 to 2464\n",
      "Data columns (total 7 columns):\n",
      " #   Column     Non-Null Count  Dtype  \n",
      "---  ------     --------------  -----  \n",
      " 0   Date       2465 non-null   object \n",
      " 1   Open       2465 non-null   float64\n",
      " 2   High       2465 non-null   float64\n",
      " 3   Low        2465 non-null   float64\n",
      " 4   Close      2465 non-null   float64\n",
      " 5   Adj Close  2465 non-null   float64\n",
      " 6   Volume     2465 non-null   int64  \n",
      "dtypes: float64(5), int64(1), object(1)\n",
      "memory usage: 134.9+ KB\n"
     ]
    }
   ],
   "source": [
    "update_df=df.dropna(axis=1)\n",
    "update_df.info() \n",
    "#columns"
   ]
  },
  {
   "cell_type": "code",
   "execution_count": 16,
   "id": "4f099f7f-6519-4c78-8723-c3a285e8f62c",
   "metadata": {},
   "outputs": [
    {
     "name": "stdout",
     "output_type": "stream",
     "text": [
      "<class 'pandas.core.frame.DataFrame'>\n",
      "RangeIndex: 2465 entries, 0 to 2464\n",
      "Data columns (total 7 columns):\n",
      " #   Column     Non-Null Count  Dtype  \n",
      "---  ------     --------------  -----  \n",
      " 0   Date       2465 non-null   object \n",
      " 1   Open       2465 non-null   float64\n",
      " 2   High       2465 non-null   float64\n",
      " 3   Low        2465 non-null   float64\n",
      " 4   Close      2465 non-null   float64\n",
      " 5   Adj Close  2465 non-null   float64\n",
      " 6   Volume     2465 non-null   int64  \n",
      "dtypes: float64(5), int64(1), object(1)\n",
      "memory usage: 134.9+ KB\n"
     ]
    }
   ],
   "source": [
    "update_df=df.dropna(axis=0)\n",
    "update_df.info()\n",
    "#rows"
   ]
  },
  {
   "cell_type": "code",
   "execution_count": 57,
   "id": "20bbafe6-488f-42c9-9850-6b1f42a84f98",
   "metadata": {},
   "outputs": [
    {
     "data": {
      "text/plain": [
       "2138.666795265554"
      ]
     },
     "execution_count": 57,
     "metadata": {},
     "output_type": "execute_result"
    }
   ],
   "source": [
    "df['Open'].mean()"
   ]
  },
  {
   "cell_type": "code",
   "execution_count": 59,
   "id": "04f58cdf-b28b-4be4-a793-b7a20d46b40e",
   "metadata": {},
   "outputs": [
    {
     "data": {
      "text/plain": [
       "0    770.0\n",
       "1    800.0\n",
       "Name: Open, dtype: float64"
      ]
     },
     "execution_count": 59,
     "metadata": {},
     "output_type": "execute_result"
    }
   ],
   "source": [
    "df['Open'].mode()"
   ]
  },
  {
   "cell_type": "code",
   "execution_count": 61,
   "id": "901e2da4-d544-4d80-b94e-420d675af2a1",
   "metadata": {},
   "outputs": [
    {
     "data": {
      "text/plain": [
       "1979.9000244140625"
      ]
     },
     "execution_count": 61,
     "metadata": {},
     "output_type": "execute_result"
    }
   ],
   "source": [
    "df['Open'].median()"
   ]
  },
  {
   "cell_type": "raw",
   "id": "bf0d4264-942d-428f-bc09-4e5e9526fb5b",
   "metadata": {},
   "source": [
    "2nd method to handle null value(fill null value with mean median or mode)"
   ]
  },
  {
   "cell_type": "code",
   "execution_count": 67,
   "id": "6ef956e4-21f4-4dcd-b7a4-c36724b165fd",
   "metadata": {},
   "outputs": [
    {
     "name": "stdout",
     "output_type": "stream",
     "text": [
      "<class 'pandas.core.frame.DataFrame'>\n",
      "RangeIndex: 2465 entries, 0 to 2464\n",
      "Data columns (total 7 columns):\n",
      " #   Column     Non-Null Count  Dtype  \n",
      "---  ------     --------------  -----  \n",
      " 0   Date       2465 non-null   object \n",
      " 1   Open       2465 non-null   float64\n",
      " 2   High       2465 non-null   float64\n",
      " 3   Low        2465 non-null   float64\n",
      " 4   Close      2465 non-null   float64\n",
      " 5   Adj Close  2465 non-null   float64\n",
      " 6   Volume     2465 non-null   int64  \n",
      "dtypes: float64(5), int64(1), object(1)\n",
      "memory usage: 134.9+ KB\n"
     ]
    }
   ],
   "source": [
    "update_df=df\n",
    "update_df['Open']=update_df['Open'].fillna(df['Open'].mean())\n",
    "df.info()"
   ]
  },
  {
   "cell_type": "code",
   "execution_count": 72,
   "id": "4fa7ad4f-216c-453a-8436-c4a967db13c5",
   "metadata": {},
   "outputs": [
    {
     "name": "stdout",
     "output_type": "stream",
     "text": [
      "<class 'pandas.core.frame.DataFrame'>\n",
      "RangeIndex: 2465 entries, 0 to 2464\n",
      "Data columns (total 7 columns):\n",
      " #   Column     Non-Null Count  Dtype  \n",
      "---  ------     --------------  -----  \n",
      " 0   Date       2465 non-null   object \n",
      " 1   Open       2465 non-null   float64\n",
      " 2   High       2465 non-null   float64\n",
      " 3   Low        2465 non-null   float64\n",
      " 4   Close      2465 non-null   float64\n",
      " 5   Adj Close  2465 non-null   float64\n",
      " 6   Volume     2465 non-null   int64  \n",
      "dtypes: float64(5), int64(1), object(1)\n",
      "memory usage: 134.9+ KB\n"
     ]
    }
   ],
   "source": [
    "update_df=df\n",
    "update_df['Open']=update_df['Open'].fillna(df['Open'].mode())\n",
    "df.info()"
   ]
  },
  {
   "cell_type": "code",
   "execution_count": 18,
   "id": "6e8b4d93-18cf-4f8d-8440-64e143d43661",
   "metadata": {},
   "outputs": [
    {
     "name": "stdout",
     "output_type": "stream",
     "text": [
      "<class 'pandas.core.frame.DataFrame'>\n",
      "RangeIndex: 2465 entries, 0 to 2464\n",
      "Data columns (total 7 columns):\n",
      " #   Column     Non-Null Count  Dtype  \n",
      "---  ------     --------------  -----  \n",
      " 0   Date       2465 non-null   object \n",
      " 1   Open       2465 non-null   float64\n",
      " 2   High       2465 non-null   float64\n",
      " 3   Low        2465 non-null   float64\n",
      " 4   Close      2465 non-null   float64\n",
      " 5   Adj Close  2465 non-null   float64\n",
      " 6   Volume     2465 non-null   int64  \n",
      "dtypes: float64(5), int64(1), object(1)\n",
      "memory usage: 134.9+ KB\n"
     ]
    }
   ],
   "source": [
    "update_df=df\n",
    "update_df['Open']=df['Open'].fillna(df['Open'].median())\n",
    "df.info()"
   ]
  },
  {
   "cell_type": "markdown",
   "id": "f7c42132-d1b0-4da2-9d77-ff0baff74e30",
   "metadata": {},
   "source": [
    "3rd method to handle null value (backword or forword filling)"
   ]
  },
  {
   "cell_type": "code",
   "execution_count": 79,
   "id": "9ef66748-bbe8-4ff0-85fb-ff0456538705",
   "metadata": {},
   "outputs": [
    {
     "name": "stdout",
     "output_type": "stream",
     "text": [
      "<class 'pandas.core.frame.DataFrame'>\n",
      "RangeIndex: 2465 entries, 0 to 2464\n",
      "Data columns (total 7 columns):\n",
      " #   Column     Non-Null Count  Dtype  \n",
      "---  ------     --------------  -----  \n",
      " 0   Date       2465 non-null   object \n",
      " 1   Open       2465 non-null   float64\n",
      " 2   High       2465 non-null   float64\n",
      " 3   Low        2465 non-null   float64\n",
      " 4   Close      2465 non-null   float64\n",
      " 5   Adj Close  2465 non-null   float64\n",
      " 6   Volume     2465 non-null   int64  \n",
      "dtypes: float64(5), int64(1), object(1)\n",
      "memory usage: 134.9+ KB\n"
     ]
    }
   ],
   "source": [
    "df1=df\n",
    "df1['Open']=df['Open'].ffill()\n",
    "df1.info()"
   ]
  },
  {
   "cell_type": "code",
   "execution_count": 81,
   "id": "1b27d098-dca6-40e4-8e7a-1142b32e5b12",
   "metadata": {},
   "outputs": [
    {
     "name": "stdout",
     "output_type": "stream",
     "text": [
      "<class 'pandas.core.frame.DataFrame'>\n",
      "RangeIndex: 2465 entries, 0 to 2464\n",
      "Data columns (total 7 columns):\n",
      " #   Column     Non-Null Count  Dtype  \n",
      "---  ------     --------------  -----  \n",
      " 0   Date       2465 non-null   object \n",
      " 1   Open       2465 non-null   float64\n",
      " 2   High       2465 non-null   float64\n",
      " 3   Low        2465 non-null   float64\n",
      " 4   Close      2465 non-null   float64\n",
      " 5   Adj Close  2465 non-null   float64\n",
      " 6   Volume     2465 non-null   int64  \n",
      "dtypes: float64(5), int64(1), object(1)\n",
      "memory usage: 134.9+ KB\n"
     ]
    }
   ],
   "source": [
    "df1=df\n",
    "df1['Open']=df['Open'].bfill()\n",
    "df1.info()"
   ]
  },
  {
   "cell_type": "code",
   "execution_count": null,
   "id": "7b795d96-8eba-414c-ae1d-9312aa80024a",
   "metadata": {},
   "outputs": [],
   "source": []
  }
 ],
 "metadata": {
  "kernelspec": {
   "display_name": "Python 3 (ipykernel)",
   "language": "python",
   "name": "python3"
  },
  "language_info": {
   "codemirror_mode": {
    "name": "ipython",
    "version": 3
   },
   "file_extension": ".py",
   "mimetype": "text/x-python",
   "name": "python",
   "nbconvert_exporter": "python",
   "pygments_lexer": "ipython3",
   "version": "3.12.4"
  }
 },
 "nbformat": 4,
 "nbformat_minor": 5
}
